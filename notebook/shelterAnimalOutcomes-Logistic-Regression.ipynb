{
 "cells": [
  {
   "cell_type": "markdown",
   "metadata": {},
   "source": [
    "#       Shelter Animal Outcomes 4"
   ]
  },
  {
   "cell_type": "markdown",
   "metadata": {},
   "source": [
    "## Logistic Regression"
   ]
  },
  {
   "cell_type": "code",
   "execution_count": 1,
   "metadata": {
    "collapsed": true
   },
   "outputs": [],
   "source": [
    "from sklearn.linear_model import LogisticRegression\n",
    "import pandas as pd"
   ]
  },
  {
   "cell_type": "code",
   "execution_count": 2,
   "metadata": {
    "collapsed": false
   },
   "outputs": [],
   "source": [
    "df_train = pd.read_csv('../Shelter_train.csv')\n",
    "df_test = pd.read_csv('../Shelter_test.csv')"
   ]
  },
  {
   "cell_type": "code",
   "execution_count": 3,
   "metadata": {
    "collapsed": true
   },
   "outputs": [],
   "source": [
    "x = df_train.ix[:, :-1]\n",
    "y = df_train.ix[:, -1]\n",
    "df_test = df_test.drop('ID', 1)"
   ]
  },
  {
   "cell_type": "code",
   "execution_count": 4,
   "metadata": {
    "collapsed": false
   },
   "outputs": [
    {
     "data": {
      "text/html": [
       "<div>\n",
       "<table border=\"1\" class=\"dataframe\">\n",
       "  <thead>\n",
       "    <tr style=\"text-align: right;\">\n",
       "      <th></th>\n",
       "      <th>Adoption</th>\n",
       "      <th>Died</th>\n",
       "      <th>Euthanasia</th>\n",
       "      <th>Return_to_owner</th>\n",
       "      <th>Transfer</th>\n",
       "    </tr>\n",
       "  </thead>\n",
       "  <tbody>\n",
       "    <tr>\n",
       "      <th>1</th>\n",
       "      <td>0.117482</td>\n",
       "      <td>0.008172</td>\n",
       "      <td>0.050876</td>\n",
       "      <td>0.236215</td>\n",
       "      <td>0.587255</td>\n",
       "    </tr>\n",
       "    <tr>\n",
       "      <th>2</th>\n",
       "      <td>0.437364</td>\n",
       "      <td>0.003482</td>\n",
       "      <td>0.030615</td>\n",
       "      <td>0.291800</td>\n",
       "      <td>0.236740</td>\n",
       "    </tr>\n",
       "    <tr>\n",
       "      <th>3</th>\n",
       "      <td>0.742515</td>\n",
       "      <td>0.004530</td>\n",
       "      <td>0.013035</td>\n",
       "      <td>0.059870</td>\n",
       "      <td>0.180050</td>\n",
       "    </tr>\n",
       "    <tr>\n",
       "      <th>4</th>\n",
       "      <td>0.301498</td>\n",
       "      <td>0.005703</td>\n",
       "      <td>0.032913</td>\n",
       "      <td>0.236961</td>\n",
       "      <td>0.422925</td>\n",
       "    </tr>\n",
       "    <tr>\n",
       "      <th>5</th>\n",
       "      <td>0.602574</td>\n",
       "      <td>0.002010</td>\n",
       "      <td>0.018305</td>\n",
       "      <td>0.261938</td>\n",
       "      <td>0.115174</td>\n",
       "    </tr>\n",
       "  </tbody>\n",
       "</table>\n",
       "</div>"
      ],
      "text/plain": [
       "   Adoption      Died  Euthanasia  Return_to_owner  Transfer\n",
       "1  0.117482  0.008172    0.050876         0.236215  0.587255\n",
       "2  0.437364  0.003482    0.030615         0.291800  0.236740\n",
       "3  0.742515  0.004530    0.013035         0.059870  0.180050\n",
       "4  0.301498  0.005703    0.032913         0.236961  0.422925\n",
       "5  0.602574  0.002010    0.018305         0.261938  0.115174"
      ]
     },
     "execution_count": 4,
     "metadata": {},
     "output_type": "execute_result"
    }
   ],
   "source": [
    "clf = LogisticRegression()\n",
    "clf = clf.fit(x, y)\n",
    "predictions = clf.predict_proba(df_test)\n",
    "output = pd.DataFrame(predictions, columns=['Adoption', 'Died', 'Euthanasia', 'Return_to_owner', 'Transfer'])\n",
    "output.index.names = ['ID']\n",
    "output.index += 1\n",
    "output.head()"
   ]
  },
  {
   "cell_type": "code",
   "execution_count": 5,
   "metadata": {
    "collapsed": true
   },
   "outputs": [],
   "source": [
    "output.to_csv('submission-logisticRegression.1.0.csv', index_label = 'ID')"
   ]
  }
 ],
 "metadata": {
  "kernelspec": {
   "display_name": "Python 2",
   "language": "python",
   "name": "python2"
  },
  "language_info": {
   "codemirror_mode": {
    "name": "ipython",
    "version": 2
   },
   "file_extension": ".py",
   "mimetype": "text/x-python",
   "name": "python",
   "nbconvert_exporter": "python",
   "pygments_lexer": "ipython2",
   "version": "2.7.11+"
  }
 },
 "nbformat": 4,
 "nbformat_minor": 0
}
