{
 "cells": [
  {
   "cell_type": "markdown",
   "metadata": {},
   "source": [
    "# Shelter Animal Outcomes 8"
   ]
  },
  {
   "cell_type": "markdown",
   "metadata": {},
   "source": [
    "## Extra Trees Classifier"
   ]
  },
  {
   "cell_type": "code",
   "execution_count": 1,
   "metadata": {
    "collapsed": true
   },
   "outputs": [],
   "source": [
    "from sklearn.ensemble import ExtraTreesClassifier\n",
    "from sklearn import cross_validation\n",
    "from sklearn.feature_selection import RFECV\n",
    "from sklearn.grid_search import GridSearchCV\n",
    "from sklearn.pipeline import Pipeline\n",
    "from time import time\n",
    "from operator import itemgetter\n",
    "import numpy as np\n",
    "import pandas as pd"
   ]
  },
  {
   "cell_type": "code",
   "execution_count": 2,
   "metadata": {
    "collapsed": true
   },
   "outputs": [],
   "source": [
    "df_train = pd.read_csv('../Shelter_train.csv')\n",
    "df_test = pd.read_csv('../Shelter_test.csv')"
   ]
  },
  {
   "cell_type": "code",
   "execution_count": 3,
   "metadata": {
    "collapsed": true
   },
   "outputs": [],
   "source": [
    "X = df_train.ix[:, :-1]\n",
    "y = df_train.ix[:, -1]\n",
    "df_test = df_test.drop('ID', 1)"
   ]
  },
  {
   "cell_type": "code",
   "execution_count": 4,
   "metadata": {
    "collapsed": false
   },
   "outputs": [
    {
     "data": {
      "text/plain": [
       "array([-2.48105266, -2.48354172, -2.54142147])"
      ]
     },
     "execution_count": 4,
     "metadata": {},
     "output_type": "execute_result"
    }
   ],
   "source": [
    "clf = ExtraTreesClassifier()\n",
    "cross_validation.cross_val_score(clf, X, y, scoring=\"log_loss\")"
   ]
  },
  {
   "cell_type": "code",
   "execution_count": 5,
   "metadata": {
    "collapsed": true
   },
   "outputs": [],
   "source": [
    "params = {\"clf__max_depth\": [5, 3, None],\n",
    "        \"clf__max_features\": [0.1, 0.25, 0.5, 1.0],\n",
    "        \"clf__min_samples_split\": [1, 3, 10],\n",
    "        \"clf__min_samples_leaf\": [1, 3, 10],\n",
    "        \"clf__bootstrap\": [True, False],\n",
    "        \"clf__criterion\": [\"gini\", \"entropy\"],\n",
    "        \"clf__class_weight\": [\"balanced\", \"balanced_subsample\", None,]}"
   ]
  },
  {
   "cell_type": "code",
   "execution_count": 6,
   "metadata": {
    "collapsed": true
   },
   "outputs": [],
   "source": [
    "def report(grid_scores, n_top=3):\n",
    "    top_scores = sorted(grid_scores, key=itemgetter(1), reverse=True)[:n_top]\n",
    "    for i, score in enumerate(top_scores):\n",
    "        print(\"Model with rank: {0}\".format(i + 1))\n",
    "        print(\"Mean validation score: {0:.3f} (std: {1:.3f})\".format(\n",
    "              score.mean_validation_score,\n",
    "              np.std(score.cv_validation_scores)))\n",
    "        print(\"Parameters: {0}\".format(score.parameters))\n",
    "        print(\"\")"
   ]
  },
  {
   "cell_type": "code",
   "execution_count": 7,
   "metadata": {
    "collapsed": false
   },
   "outputs": [
    {
     "name": "stdout",
     "output_type": "stream",
     "text": [
      "GridSearchCV took 3924.89 seconds for 1296 candidate parameter settings.\n",
      "Model with rank: 1\n",
      "Mean validation score: -1.023 (std: 0.015)\n",
      "Parameters: {'clf__bootstrap': True, 'clf__criterion': 'gini', 'clf__max_depth': 5, 'clf__min_samples_leaf': 1, 'clf__max_features': 0.25, 'clf__class_weight': None, 'clf__min_samples_split': 10}\n",
      "\n",
      "Model with rank: 2\n",
      "Mean validation score: -1.037 (std: 0.005)\n",
      "Parameters: {'clf__bootstrap': True, 'clf__criterion': 'entropy', 'clf__max_depth': 5, 'clf__min_samples_leaf': 1, 'clf__max_features': 1.0, 'clf__class_weight': None, 'clf__min_samples_split': 10}\n",
      "\n",
      "Model with rank: 3\n",
      "Mean validation score: -1.037 (std: 0.005)\n",
      "Parameters: {'clf__bootstrap': True, 'clf__criterion': 'gini', 'clf__max_depth': 5, 'clf__min_samples_leaf': 1, 'clf__max_features': 0.25, 'clf__class_weight': None, 'clf__min_samples_split': 3}\n",
      "\n"
     ]
    },
    {
     "data": {
      "text/html": [
       "<div>\n",
       "<table border=\"1\" class=\"dataframe\">\n",
       "  <thead>\n",
       "    <tr style=\"text-align: right;\">\n",
       "      <th></th>\n",
       "      <th>Adoption</th>\n",
       "      <th>Died</th>\n",
       "      <th>Euthanasia</th>\n",
       "      <th>Return_to_owner</th>\n",
       "      <th>Transfer</th>\n",
       "    </tr>\n",
       "  </thead>\n",
       "  <tbody>\n",
       "    <tr>\n",
       "      <th>1</th>\n",
       "      <td>0.058178</td>\n",
       "      <td>0.016264</td>\n",
       "      <td>0.114611</td>\n",
       "      <td>0.085652</td>\n",
       "      <td>0.725295</td>\n",
       "    </tr>\n",
       "    <tr>\n",
       "      <th>2</th>\n",
       "      <td>0.586229</td>\n",
       "      <td>0.002196</td>\n",
       "      <td>0.026179</td>\n",
       "      <td>0.199268</td>\n",
       "      <td>0.186128</td>\n",
       "    </tr>\n",
       "    <tr>\n",
       "      <th>3</th>\n",
       "      <td>0.533145</td>\n",
       "      <td>0.002126</td>\n",
       "      <td>0.034870</td>\n",
       "      <td>0.230471</td>\n",
       "      <td>0.199389</td>\n",
       "    </tr>\n",
       "    <tr>\n",
       "      <th>4</th>\n",
       "      <td>0.045776</td>\n",
       "      <td>0.022151</td>\n",
       "      <td>0.134357</td>\n",
       "      <td>0.136456</td>\n",
       "      <td>0.661260</td>\n",
       "    </tr>\n",
       "    <tr>\n",
       "      <th>5</th>\n",
       "      <td>0.533145</td>\n",
       "      <td>0.002126</td>\n",
       "      <td>0.034870</td>\n",
       "      <td>0.230471</td>\n",
       "      <td>0.199389</td>\n",
       "    </tr>\n",
       "  </tbody>\n",
       "</table>\n",
       "</div>"
      ],
      "text/plain": [
       "   Adoption      Died  Euthanasia  Return_to_owner  Transfer\n",
       "1  0.058178  0.016264    0.114611         0.085652  0.725295\n",
       "2  0.586229  0.002196    0.026179         0.199268  0.186128\n",
       "3  0.533145  0.002126    0.034870         0.230471  0.199389\n",
       "4  0.045776  0.022151    0.134357         0.136456  0.661260\n",
       "5  0.533145  0.002126    0.034870         0.230471  0.199389"
      ]
     },
     "execution_count": 7,
     "metadata": {},
     "output_type": "execute_result"
    }
   ],
   "source": [
    "pipeline = Pipeline([\n",
    "        ('featureSelection', RFECV(estimator=ExtraTreesClassifier(), scoring='log_loss')),\n",
    "        ('clf', ExtraTreesClassifier(n_estimators=20))\n",
    "        ])\n",
    "grid_search = GridSearchCV(pipeline, params, n_jobs=-1, scoring='log_loss')\n",
    "start = time()\n",
    "grid_search.fit(X, y)\n",
    "print(\"GridSearchCV took %.2f seconds for %d candidate parameter settings.\"\n",
    "      % (time() - start, len(grid_search.grid_scores_)))\n",
    "report(grid_search.grid_scores_)\n",
    "predictions = grid_search.predict_proba(df_test)\n",
    "output = pd.DataFrame(predictions, columns=['Adoption', 'Died', 'Euthanasia', 'Return_to_owner', 'Transfer'])\n",
    "output.index.names = ['ID']\n",
    "output.index += 1\n",
    "output.head()"
   ]
  },
  {
   "cell_type": "code",
   "execution_count": 8,
   "metadata": {
    "collapsed": true
   },
   "outputs": [],
   "source": [
    "output.to_csv('../submission-extraTreesClassifier.2.0.csv', index_label = 'ID')"
   ]
  }
 ],
 "metadata": {
  "kernelspec": {
   "display_name": "Python 2",
   "language": "python",
   "name": "python2"
  },
  "language_info": {
   "codemirror_mode": {
    "name": "ipython",
    "version": 2
   },
   "file_extension": ".py",
   "mimetype": "text/x-python",
   "name": "python",
   "nbconvert_exporter": "python",
   "pygments_lexer": "ipython2",
   "version": "2.7.12"
  }
 },
 "nbformat": 4,
 "nbformat_minor": 0
}
