{
 "cells": [
  {
   "cell_type": "markdown",
   "metadata": {},
   "source": [
    "# Shelter Animal Outcomes 10"
   ]
  },
  {
   "cell_type": "markdown",
   "metadata": {},
   "source": [
    "## Gradient Tree Boosting"
   ]
  },
  {
   "cell_type": "code",
   "execution_count": 1,
   "metadata": {
    "collapsed": true
   },
   "outputs": [],
   "source": [
    "from sklearn.ensemble import GradientBoostingClassifier\n",
    "from sklearn import cross_validation\n",
    "from sklearn.feature_selection import RFECV\n",
    "from sklearn.grid_search import RandomizedSearchCV\n",
    "from scipy.stats import randint as sp_randint\n",
    "from sklearn.pipeline import Pipeline\n",
    "from time import time\n",
    "from operator import itemgetter\n",
    "import numpy as np\n",
    "import pandas as pd"
   ]
  },
  {
   "cell_type": "code",
   "execution_count": 2,
   "metadata": {
    "collapsed": true
   },
   "outputs": [],
   "source": [
    "df_train = pd.read_csv('../Shelter_train.csv')\n",
    "df_test = pd.read_csv('../Shelter_test.csv')"
   ]
  },
  {
   "cell_type": "code",
   "execution_count": 3,
   "metadata": {
    "collapsed": true
   },
   "outputs": [],
   "source": [
    "X = df_train.ix[:, :-1]\n",
    "y = df_train.ix[:, -1]\n",
    "df_test = df_test.drop('ID', 1)"
   ]
  },
  {
   "cell_type": "code",
   "execution_count": 4,
   "metadata": {
    "collapsed": false
   },
   "outputs": [
    {
     "data": {
      "text/plain": [
       "array([-0.95119628, -0.94774087, -0.93670263])"
      ]
     },
     "execution_count": 4,
     "metadata": {},
     "output_type": "execute_result"
    }
   ],
   "source": [
    "clf = GradientBoostingClassifier()\n",
    "cross_validation.cross_val_score(clf, X, y, scoring=\"log_loss\")"
   ]
  },
  {
   "cell_type": "code",
   "execution_count": 14,
   "metadata": {
    "collapsed": false
   },
   "outputs": [],
   "source": [
    "params = {\n",
    "          \"clf__max_features\": [0.1, 0.3, 1.0],\n",
    "          \"clf__min_samples_split\": [1, 3, 10],\n",
    "          \"clf__max_depth\": [3, 5, 6],\n",
    "          \"clf__n_estimators\" : sp_randint(10, 400),\n",
    "          \"clf__max_leaf_nodes\": [3, 5, 7, None]\n",
    "}          "
   ]
  },
  {
   "cell_type": "code",
   "execution_count": 6,
   "metadata": {
    "collapsed": true
   },
   "outputs": [],
   "source": [
    "def report(grid_scores, n_top=3):\n",
    "    top_scores = sorted(grid_scores, key=itemgetter(1), reverse=True)[:n_top]\n",
    "    for i, score in enumerate(top_scores):\n",
    "        print(\"Model with rank: {0}\".format(i + 1))\n",
    "        print(\"Mean validation score: {0:.3f} (std: {1:.3f})\".format(\n",
    "              score.mean_validation_score,\n",
    "              np.std(score.cv_validation_scores)))\n",
    "        print(\"Parameters: {0}\".format(score.parameters))\n",
    "        print(\"\")"
   ]
  },
  {
   "cell_type": "code",
   "execution_count": 15,
   "metadata": {
    "collapsed": false
   },
   "outputs": [
    {
     "name": "stdout",
     "output_type": "stream",
     "text": [
      "GridSearchCV took 1252.21 seconds for 50 candidate parameter settings.\n",
      "Model with rank: 1\n",
      "Mean validation score: -0.945 (std: 0.006)\n",
      "Parameters: {'clf__max_features': 1.0, 'clf__max_depth': 3, 'clf__n_estimators': 74, 'clf__min_samples_split': 10, 'clf__max_leaf_nodes': 7}\n",
      "\n",
      "Model with rank: 2\n",
      "Mean validation score: -0.945 (std: 0.006)\n",
      "Parameters: {'clf__max_features': 1.0, 'clf__max_depth': 3, 'clf__n_estimators': 66, 'clf__min_samples_split': 1, 'clf__max_leaf_nodes': 7}\n",
      "\n",
      "Model with rank: 3\n",
      "Mean validation score: -0.946 (std: 0.007)\n",
      "Parameters: {'clf__max_features': 1.0, 'clf__max_depth': 3, 'clf__n_estimators': 140, 'clf__min_samples_split': 1, 'clf__max_leaf_nodes': 5}\n",
      "\n"
     ]
    },
    {
     "data": {
      "text/html": [
       "<div>\n",
       "<table border=\"1\" class=\"dataframe\">\n",
       "  <thead>\n",
       "    <tr style=\"text-align: right;\">\n",
       "      <th></th>\n",
       "      <th>Adoption</th>\n",
       "      <th>Died</th>\n",
       "      <th>Euthanasia</th>\n",
       "      <th>Return_to_owner</th>\n",
       "      <th>Transfer</th>\n",
       "    </tr>\n",
       "  </thead>\n",
       "  <tbody>\n",
       "    <tr>\n",
       "      <th>1</th>\n",
       "      <td>0.074442</td>\n",
       "      <td>0.003995</td>\n",
       "      <td>0.076139</td>\n",
       "      <td>0.295358</td>\n",
       "      <td>0.550065</td>\n",
       "    </tr>\n",
       "    <tr>\n",
       "      <th>2</th>\n",
       "      <td>0.596681</td>\n",
       "      <td>0.001717</td>\n",
       "      <td>0.030891</td>\n",
       "      <td>0.235492</td>\n",
       "      <td>0.135218</td>\n",
       "    </tr>\n",
       "    <tr>\n",
       "      <th>3</th>\n",
       "      <td>0.663599</td>\n",
       "      <td>0.002926</td>\n",
       "      <td>0.034327</td>\n",
       "      <td>0.090181</td>\n",
       "      <td>0.208966</td>\n",
       "    </tr>\n",
       "    <tr>\n",
       "      <th>4</th>\n",
       "      <td>0.093340</td>\n",
       "      <td>0.004693</td>\n",
       "      <td>0.079784</td>\n",
       "      <td>0.370129</td>\n",
       "      <td>0.452055</td>\n",
       "    </tr>\n",
       "    <tr>\n",
       "      <th>5</th>\n",
       "      <td>0.516111</td>\n",
       "      <td>0.002105</td>\n",
       "      <td>0.021441</td>\n",
       "      <td>0.285548</td>\n",
       "      <td>0.174794</td>\n",
       "    </tr>\n",
       "  </tbody>\n",
       "</table>\n",
       "</div>"
      ],
      "text/plain": [
       "   Adoption      Died  Euthanasia  Return_to_owner  Transfer\n",
       "1  0.074442  0.003995    0.076139         0.295358  0.550065\n",
       "2  0.596681  0.001717    0.030891         0.235492  0.135218\n",
       "3  0.663599  0.002926    0.034327         0.090181  0.208966\n",
       "4  0.093340  0.004693    0.079784         0.370129  0.452055\n",
       "5  0.516111  0.002105    0.021441         0.285548  0.174794"
      ]
     },
     "execution_count": 15,
     "metadata": {},
     "output_type": "execute_result"
    }
   ],
   "source": [
    "pipeline = Pipeline([\n",
    "        ('featureSelection', RFECV(estimator=GradientBoostingClassifier(n_estimators=10), scoring='log_loss')),\n",
    "        ('clf', GradientBoostingClassifier())\n",
    "        ])\n",
    "rand_search = RandomizedSearchCV(pipeline, params, n_iter=50, n_jobs=-1, scoring='log_loss')\n",
    "start = time()\n",
    "rand_search.fit(X, y)\n",
    "print(\"GridSearchCV took %.2f seconds for %d candidate parameter settings.\"\n",
    "      % (time() - start, len(rand_search.grid_scores_)))\n",
    "report(rand_search.grid_scores_)\n",
    "predictions = rand_search.predict_proba(df_test)\n",
    "output = pd.DataFrame(predictions, columns=['Adoption', 'Died', 'Euthanasia', 'Return_to_owner', 'Transfer'])\n",
    "output.index.names = ['ID']\n",
    "output.index += 1\n",
    "output.head()"
   ]
  },
  {
   "cell_type": "code",
   "execution_count": 10,
   "metadata": {
    "collapsed": true
   },
   "outputs": [],
   "source": [
    "output.to_csv('../submission-GradientBoostingClassifier.3.0.csv', index_label = 'ID')"
   ]
  }
 ],
 "metadata": {
  "kernelspec": {
   "display_name": "Python 2",
   "language": "python",
   "name": "python2"
  },
  "language_info": {
   "codemirror_mode": {
    "name": "ipython",
    "version": 2
   },
   "file_extension": ".py",
   "mimetype": "text/x-python",
   "name": "python",
   "nbconvert_exporter": "python",
   "pygments_lexer": "ipython2",
   "version": "2.7.12"
  }
 },
 "nbformat": 4,
 "nbformat_minor": 0
}
