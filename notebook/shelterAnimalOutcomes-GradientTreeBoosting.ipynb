{
 "cells": [
  {
   "cell_type": "markdown",
   "metadata": {},
   "source": [
    "# Shelter Animal Outcomes 10"
   ]
  },
  {
   "cell_type": "markdown",
   "metadata": {},
   "source": [
    "## Gradient Tree Boosting"
   ]
  },
  {
   "cell_type": "code",
   "execution_count": 1,
   "metadata": {
    "collapsed": true
   },
   "outputs": [],
   "source": [
    "from sklearn.ensemble import GradientBoostingClassifier\n",
    "from sklearn import cross_validation\n",
    "from sklearn.feature_selection import RFECV\n",
    "from sklearn.grid_search import RandomizedSearchCV\n",
    "from sklearn.pipeline import Pipeline\n",
    "from time import time\n",
    "from operator import itemgetter\n",
    "import numpy as np\n",
    "import pandas as pd"
   ]
  },
  {
   "cell_type": "code",
   "execution_count": 2,
   "metadata": {
    "collapsed": true
   },
   "outputs": [],
   "source": [
    "df_train = pd.read_csv('../Shelter_train.csv')\n",
    "df_test = pd.read_csv('../Shelter_test.csv')"
   ]
  },
  {
   "cell_type": "code",
   "execution_count": 3,
   "metadata": {
    "collapsed": true
   },
   "outputs": [],
   "source": [
    "X = df_train.ix[:, :-1]\n",
    "y = df_train.ix[:, -1]\n",
    "df_test = df_test.drop('ID', 1)"
   ]
  },
  {
   "cell_type": "code",
   "execution_count": 4,
   "metadata": {
    "collapsed": false
   },
   "outputs": [
    {
     "data": {
      "text/plain": [
       "array([-0.95119677, -0.94772602, -0.93670763])"
      ]
     },
     "execution_count": 4,
     "metadata": {},
     "output_type": "execute_result"
    }
   ],
   "source": [
    "clf = GradientBoostingClassifier()\n",
    "cross_validation.cross_val_score(clf, X, y, scoring=\"log_loss\")"
   ]
  },
  {
   "cell_type": "code",
   "execution_count": 5,
   "metadata": {
    "collapsed": false
   },
   "outputs": [],
   "source": [
    "params = {\n",
    "          \"clf__max_features\": [0.1, 0.3, 1.0],\n",
    "          \"clf__learning_rate\" : [0.01, 0.03, 0.1, 0.3],\n",
    "          \"clf__min_samples_split\": [1, 3, 10],\n",
    "          \"clf__max_depth\": [3, 5, 6],\n",
    "          \"clf__max_features\": [0.1, 0.3, 1.0]\n",
    "}          "
   ]
  },
  {
   "cell_type": "code",
   "execution_count": 6,
   "metadata": {
    "collapsed": true
   },
   "outputs": [],
   "source": [
    "def report(grid_scores, n_top=3):\n",
    "    top_scores = sorted(grid_scores, key=itemgetter(1), reverse=True)[:n_top]\n",
    "    for i, score in enumerate(top_scores):\n",
    "        print(\"Model with rank: {0}\".format(i + 1))\n",
    "        print(\"Mean validation score: {0:.3f} (std: {1:.3f})\".format(\n",
    "              score.mean_validation_score,\n",
    "              np.std(score.cv_validation_scores)))\n",
    "        print(\"Parameters: {0}\".format(score.parameters))\n",
    "        print(\"\")"
   ]
  },
  {
   "cell_type": "code",
   "execution_count": 7,
   "metadata": {
    "collapsed": false
   },
   "outputs": [
    {
     "name": "stdout",
     "output_type": "stream",
     "text": [
      "RandomizedSearchCV took 9553.61 seconds for 100 candidate parameter settings.\n",
      "Model with rank: 1\n",
      "Mean validation score: -0.945 (std: 0.006)\n",
      "Parameters: {'clf__max_features': 0.3, 'clf__max_depth': 3, 'clf__learning_rate': 0.01, 'clf__min_samples_split': 10}\n",
      "\n",
      "Model with rank: 2\n",
      "Mean validation score: -0.945 (std: 0.006)\n",
      "Parameters: {'clf__max_features': 0.3, 'clf__max_depth': 3, 'clf__learning_rate': 0.01, 'clf__min_samples_split': 1}\n",
      "\n",
      "Model with rank: 3\n",
      "Mean validation score: -0.945 (std: 0.006)\n",
      "Parameters: {'clf__max_features': 0.3, 'clf__max_depth': 3, 'clf__learning_rate': 0.01, 'clf__min_samples_split': 3}\n",
      "\n"
     ]
    },
    {
     "data": {
      "text/html": [
       "<div>\n",
       "<table border=\"1\" class=\"dataframe\">\n",
       "  <thead>\n",
       "    <tr style=\"text-align: right;\">\n",
       "      <th></th>\n",
       "      <th>Adoption</th>\n",
       "      <th>Died</th>\n",
       "      <th>Euthanasia</th>\n",
       "      <th>Return_to_owner</th>\n",
       "      <th>Transfer</th>\n",
       "    </tr>\n",
       "  </thead>\n",
       "  <tbody>\n",
       "    <tr>\n",
       "      <th>1</th>\n",
       "      <td>0.080615</td>\n",
       "      <td>0.005951</td>\n",
       "      <td>0.085572</td>\n",
       "      <td>0.286303</td>\n",
       "      <td>0.541559</td>\n",
       "    </tr>\n",
       "    <tr>\n",
       "      <th>2</th>\n",
       "      <td>0.595245</td>\n",
       "      <td>0.001091</td>\n",
       "      <td>0.027656</td>\n",
       "      <td>0.254156</td>\n",
       "      <td>0.121852</td>\n",
       "    </tr>\n",
       "    <tr>\n",
       "      <th>3</th>\n",
       "      <td>0.661075</td>\n",
       "      <td>0.003448</td>\n",
       "      <td>0.031854</td>\n",
       "      <td>0.101615</td>\n",
       "      <td>0.202007</td>\n",
       "    </tr>\n",
       "    <tr>\n",
       "      <th>4</th>\n",
       "      <td>0.111369</td>\n",
       "      <td>0.007495</td>\n",
       "      <td>0.095261</td>\n",
       "      <td>0.324243</td>\n",
       "      <td>0.461632</td>\n",
       "    </tr>\n",
       "    <tr>\n",
       "      <th>5</th>\n",
       "      <td>0.527595</td>\n",
       "      <td>0.001488</td>\n",
       "      <td>0.025323</td>\n",
       "      <td>0.270525</td>\n",
       "      <td>0.175069</td>\n",
       "    </tr>\n",
       "  </tbody>\n",
       "</table>\n",
       "</div>"
      ],
      "text/plain": [
       "   Adoption      Died  Euthanasia  Return_to_owner  Transfer\n",
       "1  0.080615  0.005951    0.085572         0.286303  0.541559\n",
       "2  0.595245  0.001091    0.027656         0.254156  0.121852\n",
       "3  0.661075  0.003448    0.031854         0.101615  0.202007\n",
       "4  0.111369  0.007495    0.095261         0.324243  0.461632\n",
       "5  0.527595  0.001488    0.025323         0.270525  0.175069"
      ]
     },
     "execution_count": 7,
     "metadata": {},
     "output_type": "execute_result"
    }
   ],
   "source": [
    "pipeline = Pipeline([\n",
    "        ('featureSelection', RFECV(estimator=GradientBoostingClassifier(n_estimators=10), scoring='log_loss')),\n",
    "        ('clf', GradientBoostingClassifier(n_estimators=1000))\n",
    "        ])\n",
    "rand_search = RandomizedSearchCV(pipeline, params, n_iter=100, n_jobs=-1, scoring='log_loss')\n",
    "start = time()\n",
    "rand_search.fit(X, y)\n",
    "print(\"RandomizedSearchCV took %.2f seconds for %d candidate parameter settings.\"\n",
    "      % (time() - start, len(rand_search.grid_scores_)))\n",
    "report(rand_search.grid_scores_)\n",
    "predictions = rand_search.predict_proba(df_test)\n",
    "output = pd.DataFrame(predictions, columns=['Adoption', 'Died', 'Euthanasia', 'Return_to_owner', 'Transfer'])\n",
    "output.index.names = ['ID']\n",
    "output.index += 1\n",
    "output.head()"
   ]
  },
  {
   "cell_type": "code",
   "execution_count": 8,
   "metadata": {
    "collapsed": true
   },
   "outputs": [],
   "source": [
    "output.to_csv('../submission-GradientBoostingClassifier.3.0.csv', index_label = 'ID')"
   ]
  }
 ],
 "metadata": {
  "kernelspec": {
   "display_name": "Python 2",
   "language": "python",
   "name": "python2"
  },
  "language_info": {
   "codemirror_mode": {
    "name": "ipython",
    "version": 2
   },
   "file_extension": ".py",
   "mimetype": "text/x-python",
   "name": "python",
   "nbconvert_exporter": "python",
   "pygments_lexer": "ipython2",
   "version": "2.7.12"
  }
 },
 "nbformat": 4,
 "nbformat_minor": 0
}
