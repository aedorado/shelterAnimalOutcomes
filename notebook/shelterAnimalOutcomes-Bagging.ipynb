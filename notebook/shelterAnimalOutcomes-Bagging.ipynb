{
 "cells": [
  {
   "cell_type": "markdown",
   "metadata": {},
   "source": [
    "# Shelter Animal Outcomes 11 "
   ]
  },
  {
   "cell_type": "markdown",
   "metadata": {},
   "source": [
    "## Bagging "
   ]
  },
  {
   "cell_type": "code",
   "execution_count": 1,
   "metadata": {
    "collapsed": true
   },
   "outputs": [],
   "source": [
    "from sklearn.ensemble import BaggingClassifier\n",
    "from sklearn.linear_model import LogisticRegression\n",
    "from sklearn.svm import SVC\n",
    "from sklearn.tree import DecisionTreeClassifier\n",
    "from sklearn.neighbors import KNeighborsClassifier\n",
    "from sklearn.naive_bayes import GaussianNB \n",
    "from sklearn import cross_validation\n",
    "from sklearn.feature_selection import SelectKBest, chi2, RFECV\n",
    "from sklearn.cross_validation import StratifiedKFold\n",
    "from sklearn.grid_search import GridSearchCV\n",
    "from sklearn.pipeline import make_pipeline\n",
    "import pandas as pd"
   ]
  },
  {
   "cell_type": "code",
   "execution_count": 2,
   "metadata": {
    "collapsed": true
   },
   "outputs": [],
   "source": [
    "df_train = pd.read_csv('../Shelter_train.csv')\n",
    "df_test = pd.read_csv('../Shelter_test.csv')"
   ]
  },
  {
   "cell_type": "code",
   "execution_count": 3,
   "metadata": {
    "collapsed": true
   },
   "outputs": [],
   "source": [
    "X = df_train.ix[:, :-1]\n",
    "y = df_train.ix[:, -1]\n",
    "df_test = df_test.drop('ID', 1)"
   ]
  },
  {
   "cell_type": "markdown",
   "metadata": {},
   "source": [
    "### Logistic Regression"
   ]
  },
  {
   "cell_type": "code",
   "execution_count": 4,
   "metadata": {
    "collapsed": false,
    "scrolled": true
   },
   "outputs": [
    {
     "data": {
      "text/plain": [
       "array([-1.03859505, -1.05642992, -1.08024019])"
      ]
     },
     "execution_count": 4,
     "metadata": {},
     "output_type": "execute_result"
    }
   ],
   "source": [
    "clf = BaggingClassifier(LogisticRegression(), max_samples=0.5, max_features=0.5)\n",
    "cross_validation.cross_val_score(clf, X, y, scoring=\"log_loss\")"
   ]
  },
  {
   "cell_type": "code",
   "execution_count": 5,
   "metadata": {
    "collapsed": false
   },
   "outputs": [
    {
     "data": {
      "text/plain": [
       "array([-1.06820144, -1.07306632, -1.09494661])"
      ]
     },
     "execution_count": 5,
     "metadata": {},
     "output_type": "execute_result"
    }
   ],
   "source": [
    "X_new = SelectKBest(chi2, k=7).fit_transform(X, y)\n",
    "cross_validation.cross_val_score(clf, X_new, y, scoring=\"log_loss\")"
   ]
  },
  {
   "cell_type": "code",
   "execution_count": 6,
   "metadata": {
    "collapsed": false
   },
   "outputs": [
    {
     "data": {
      "text/html": [
       "<div>\n",
       "<table border=\"1\" class=\"dataframe\">\n",
       "  <thead>\n",
       "    <tr style=\"text-align: right;\">\n",
       "      <th></th>\n",
       "      <th>Adoption</th>\n",
       "      <th>Died</th>\n",
       "      <th>Euthanasia</th>\n",
       "      <th>Return_to_owner</th>\n",
       "      <th>Transfer</th>\n",
       "    </tr>\n",
       "  </thead>\n",
       "  <tbody>\n",
       "    <tr>\n",
       "      <th>1</th>\n",
       "      <td>0.307454</td>\n",
       "      <td>0.006654</td>\n",
       "      <td>0.070184</td>\n",
       "      <td>0.210140</td>\n",
       "      <td>0.405568</td>\n",
       "    </tr>\n",
       "    <tr>\n",
       "      <th>2</th>\n",
       "      <td>0.468738</td>\n",
       "      <td>0.001875</td>\n",
       "      <td>0.044335</td>\n",
       "      <td>0.319245</td>\n",
       "      <td>0.165807</td>\n",
       "    </tr>\n",
       "    <tr>\n",
       "      <th>3</th>\n",
       "      <td>0.510772</td>\n",
       "      <td>0.007821</td>\n",
       "      <td>0.043575</td>\n",
       "      <td>0.095783</td>\n",
       "      <td>0.342049</td>\n",
       "    </tr>\n",
       "    <tr>\n",
       "      <th>4</th>\n",
       "      <td>0.339458</td>\n",
       "      <td>0.007107</td>\n",
       "      <td>0.063332</td>\n",
       "      <td>0.189334</td>\n",
       "      <td>0.400768</td>\n",
       "    </tr>\n",
       "    <tr>\n",
       "      <th>5</th>\n",
       "      <td>0.513114</td>\n",
       "      <td>0.004399</td>\n",
       "      <td>0.033684</td>\n",
       "      <td>0.232800</td>\n",
       "      <td>0.216002</td>\n",
       "    </tr>\n",
       "  </tbody>\n",
       "</table>\n",
       "</div>"
      ],
      "text/plain": [
       "   Adoption      Died  Euthanasia  Return_to_owner  Transfer\n",
       "1  0.307454  0.006654    0.070184         0.210140  0.405568\n",
       "2  0.468738  0.001875    0.044335         0.319245  0.165807\n",
       "3  0.510772  0.007821    0.043575         0.095783  0.342049\n",
       "4  0.339458  0.007107    0.063332         0.189334  0.400768\n",
       "5  0.513114  0.004399    0.033684         0.232800  0.216002"
      ]
     },
     "execution_count": 6,
     "metadata": {},
     "output_type": "execute_result"
    }
   ],
   "source": [
    "selector = SelectKBest(chi2, k=7)\n",
    "predictor = make_pipeline(selector, clf)\n",
    "predictor.fit(X, y)\n",
    "predictions = predictor.predict_proba(df_test)\n",
    "output = pd.DataFrame(predictions, columns=['Adoption', 'Died', 'Euthanasia', 'Return_to_owner', 'Transfer'])\n",
    "output.index.names = ['ID']\n",
    "output.index += 1\n",
    "output.head()"
   ]
  },
  {
   "cell_type": "code",
   "execution_count": 7,
   "metadata": {
    "collapsed": true
   },
   "outputs": [],
   "source": [
    "output.to_csv('../submission-Bagging-LogisticRegression.2.0.csv', index_label = 'ID')"
   ]
  },
  {
   "cell_type": "markdown",
   "metadata": {},
   "source": [
    "### SVC"
   ]
  },
  {
   "cell_type": "code",
   "execution_count": 8,
   "metadata": {
    "collapsed": false
   },
   "outputs": [
    {
     "data": {
      "text/plain": [
       "array([-9.96199163, -8.57309252, -8.83333762])"
      ]
     },
     "execution_count": 8,
     "metadata": {},
     "output_type": "execute_result"
    }
   ],
   "source": [
    "svc = BaggingClassifier(SVC(), max_samples=0.5, max_features=0.5)\n",
    "cross_validation.cross_val_score(svc, X, y, scoring=\"log_loss\")"
   ]
  },
  {
   "cell_type": "code",
   "execution_count": 9,
   "metadata": {
    "collapsed": false
   },
   "outputs": [
    {
     "data": {
      "text/plain": [
       "array([-8.3853414 , -9.92669214, -8.38454693])"
      ]
     },
     "execution_count": 9,
     "metadata": {},
     "output_type": "execute_result"
    }
   ],
   "source": [
    "X_new = SelectKBest(chi2, k=7).fit_transform(X, y)\n",
    "cross_validation.cross_val_score(svc, X_new, y, scoring=\"log_loss\")"
   ]
  },
  {
   "cell_type": "code",
   "execution_count": 10,
   "metadata": {
    "collapsed": false
   },
   "outputs": [
    {
     "data": {
      "text/html": [
       "<div>\n",
       "<table border=\"1\" class=\"dataframe\">\n",
       "  <thead>\n",
       "    <tr style=\"text-align: right;\">\n",
       "      <th></th>\n",
       "      <th>Adoption</th>\n",
       "      <th>Died</th>\n",
       "      <th>Euthanasia</th>\n",
       "      <th>Return_to_owner</th>\n",
       "      <th>Transfer</th>\n",
       "    </tr>\n",
       "  </thead>\n",
       "  <tbody>\n",
       "    <tr>\n",
       "      <th>1</th>\n",
       "      <td>0.4</td>\n",
       "      <td>0.0</td>\n",
       "      <td>0.0</td>\n",
       "      <td>0.1</td>\n",
       "      <td>0.5</td>\n",
       "    </tr>\n",
       "    <tr>\n",
       "      <th>2</th>\n",
       "      <td>1.0</td>\n",
       "      <td>0.0</td>\n",
       "      <td>0.0</td>\n",
       "      <td>0.0</td>\n",
       "      <td>0.0</td>\n",
       "    </tr>\n",
       "    <tr>\n",
       "      <th>3</th>\n",
       "      <td>0.7</td>\n",
       "      <td>0.0</td>\n",
       "      <td>0.0</td>\n",
       "      <td>0.0</td>\n",
       "      <td>0.3</td>\n",
       "    </tr>\n",
       "    <tr>\n",
       "      <th>4</th>\n",
       "      <td>0.3</td>\n",
       "      <td>0.0</td>\n",
       "      <td>0.0</td>\n",
       "      <td>0.1</td>\n",
       "      <td>0.6</td>\n",
       "    </tr>\n",
       "    <tr>\n",
       "      <th>5</th>\n",
       "      <td>0.9</td>\n",
       "      <td>0.0</td>\n",
       "      <td>0.0</td>\n",
       "      <td>0.0</td>\n",
       "      <td>0.1</td>\n",
       "    </tr>\n",
       "  </tbody>\n",
       "</table>\n",
       "</div>"
      ],
      "text/plain": [
       "   Adoption  Died  Euthanasia  Return_to_owner  Transfer\n",
       "1       0.4   0.0         0.0              0.1       0.5\n",
       "2       1.0   0.0         0.0              0.0       0.0\n",
       "3       0.7   0.0         0.0              0.0       0.3\n",
       "4       0.3   0.0         0.0              0.1       0.6\n",
       "5       0.9   0.0         0.0              0.0       0.1"
      ]
     },
     "execution_count": 10,
     "metadata": {},
     "output_type": "execute_result"
    }
   ],
   "source": [
    "selectorSVC = SelectKBest(chi2, k=7)\n",
    "predictor = make_pipeline(selectorSVC, svc)\n",
    "predictor.fit(X, y)\n",
    "predictions = predictor.predict_proba(df_test)\n",
    "output = pd.DataFrame(predictions, columns=['Adoption', 'Died', 'Euthanasia', 'Return_to_owner', 'Transfer'])\n",
    "output.index.names = ['ID']\n",
    "output.index += 1\n",
    "output.head()"
   ]
  },
  {
   "cell_type": "code",
   "execution_count": 11,
   "metadata": {
    "collapsed": true
   },
   "outputs": [],
   "source": [
    "output.to_csv('../submission-Bagging-SVC.2.0.csv', index_label = 'ID')"
   ]
  },
  {
   "cell_type": "markdown",
   "metadata": {},
   "source": [
    "### Decision Tree"
   ]
  },
  {
   "cell_type": "code",
   "execution_count": 12,
   "metadata": {
    "collapsed": false
   },
   "outputs": [
    {
     "data": {
      "text/plain": [
       "array([-0.99228152, -1.04551678, -1.00705403])"
      ]
     },
     "execution_count": 12,
     "metadata": {},
     "output_type": "execute_result"
    }
   ],
   "source": [
    "decisionTree = BaggingClassifier(DecisionTreeClassifier(), max_samples=0.5, max_features=0.5)\n",
    "cross_validation.cross_val_score(decisionTree, X, y, scoring=\"log_loss\")"
   ]
  },
  {
   "cell_type": "code",
   "execution_count": 13,
   "metadata": {
    "collapsed": false
   },
   "outputs": [
    {
     "data": {
      "text/plain": [
       "array([-1.00795675, -0.99000558, -1.01431619])"
      ]
     },
     "execution_count": 13,
     "metadata": {},
     "output_type": "execute_result"
    }
   ],
   "source": [
    "X_new = SelectKBest(chi2, k=4).fit_transform(X, y)\n",
    "cross_validation.cross_val_score(decisionTree, X_new, y, scoring=\"log_loss\")"
   ]
  },
  {
   "cell_type": "code",
   "execution_count": 14,
   "metadata": {
    "collapsed": false
   },
   "outputs": [
    {
     "data": {
      "text/html": [
       "<div>\n",
       "<table border=\"1\" class=\"dataframe\">\n",
       "  <thead>\n",
       "    <tr style=\"text-align: right;\">\n",
       "      <th></th>\n",
       "      <th>Adoption</th>\n",
       "      <th>Died</th>\n",
       "      <th>Euthanasia</th>\n",
       "      <th>Return_to_owner</th>\n",
       "      <th>Transfer</th>\n",
       "    </tr>\n",
       "  </thead>\n",
       "  <tbody>\n",
       "    <tr>\n",
       "      <th>1</th>\n",
       "      <td>0.252313</td>\n",
       "      <td>0.005126</td>\n",
       "      <td>0.077127</td>\n",
       "      <td>0.233295</td>\n",
       "      <td>0.432140</td>\n",
       "    </tr>\n",
       "    <tr>\n",
       "      <th>2</th>\n",
       "      <td>0.503346</td>\n",
       "      <td>0.000730</td>\n",
       "      <td>0.030821</td>\n",
       "      <td>0.268996</td>\n",
       "      <td>0.196107</td>\n",
       "    </tr>\n",
       "    <tr>\n",
       "      <th>3</th>\n",
       "      <td>0.504070</td>\n",
       "      <td>0.005231</td>\n",
       "      <td>0.054165</td>\n",
       "      <td>0.147862</td>\n",
       "      <td>0.288672</td>\n",
       "    </tr>\n",
       "    <tr>\n",
       "      <th>4</th>\n",
       "      <td>0.239439</td>\n",
       "      <td>0.013327</td>\n",
       "      <td>0.108950</td>\n",
       "      <td>0.200081</td>\n",
       "      <td>0.438203</td>\n",
       "    </tr>\n",
       "    <tr>\n",
       "      <th>5</th>\n",
       "      <td>0.497003</td>\n",
       "      <td>0.002079</td>\n",
       "      <td>0.055932</td>\n",
       "      <td>0.221618</td>\n",
       "      <td>0.223368</td>\n",
       "    </tr>\n",
       "  </tbody>\n",
       "</table>\n",
       "</div>"
      ],
      "text/plain": [
       "   Adoption      Died  Euthanasia  Return_to_owner  Transfer\n",
       "1  0.252313  0.005126    0.077127         0.233295  0.432140\n",
       "2  0.503346  0.000730    0.030821         0.268996  0.196107\n",
       "3  0.504070  0.005231    0.054165         0.147862  0.288672\n",
       "4  0.239439  0.013327    0.108950         0.200081  0.438203\n",
       "5  0.497003  0.002079    0.055932         0.221618  0.223368"
      ]
     },
     "execution_count": 14,
     "metadata": {},
     "output_type": "execute_result"
    }
   ],
   "source": [
    "selectorDTree = SelectKBest(chi2, k=4)\n",
    "predictor = make_pipeline(selectorDTree, decisionTree)\n",
    "predictor.fit(X, y)\n",
    "predictions = predictor.predict_proba(df_test)\n",
    "output = pd.DataFrame(predictions, columns=['Adoption', 'Died', 'Euthanasia', 'Return_to_owner', 'Transfer'])\n",
    "output.index.names = ['ID']\n",
    "output.index += 1\n",
    "output.head()"
   ]
  },
  {
   "cell_type": "code",
   "execution_count": 15,
   "metadata": {
    "collapsed": true
   },
   "outputs": [],
   "source": [
    "output.to_csv('../submission-Bagging-DecisionTree.2.0.csv', index_label = 'ID')"
   ]
  },
  {
   "cell_type": "markdown",
   "metadata": {},
   "source": [
    "### KNN"
   ]
  },
  {
   "cell_type": "code",
   "execution_count": 18,
   "metadata": {
    "collapsed": false
   },
   "outputs": [
    {
     "data": {
      "text/plain": [
       "array([-1.21654176, -1.34443792, -1.440332  ])"
      ]
     },
     "execution_count": 18,
     "metadata": {},
     "output_type": "execute_result"
    }
   ],
   "source": [
    "knn = BaggingClassifier(KNeighborsClassifier(), max_samples=0.5, max_features=0.5)\n",
    "cross_validation.cross_val_score(knn, X, y, scoring=\"log_loss\")"
   ]
  },
  {
   "cell_type": "code",
   "execution_count": 19,
   "metadata": {
    "collapsed": false
   },
   "outputs": [
    {
     "data": {
      "text/plain": [
       "array([-1.3564969 , -1.24266913, -1.34157001])"
      ]
     },
     "execution_count": 19,
     "metadata": {},
     "output_type": "execute_result"
    }
   ],
   "source": [
    "X_new = SelectKBest(chi2, k=8).fit_transform(X, y)\n",
    "cross_validation.cross_val_score(knn, X_new, y, scoring=\"log_loss\")"
   ]
  },
  {
   "cell_type": "code",
   "execution_count": 20,
   "metadata": {
    "collapsed": false
   },
   "outputs": [
    {
     "data": {
      "text/html": [
       "<div>\n",
       "<table border=\"1\" class=\"dataframe\">\n",
       "  <thead>\n",
       "    <tr style=\"text-align: right;\">\n",
       "      <th></th>\n",
       "      <th>Adoption</th>\n",
       "      <th>Died</th>\n",
       "      <th>Euthanasia</th>\n",
       "      <th>Return_to_owner</th>\n",
       "      <th>Transfer</th>\n",
       "    </tr>\n",
       "  </thead>\n",
       "  <tbody>\n",
       "    <tr>\n",
       "      <th>1</th>\n",
       "      <td>0.26</td>\n",
       "      <td>0.0</td>\n",
       "      <td>0.02</td>\n",
       "      <td>0.30</td>\n",
       "      <td>0.42</td>\n",
       "    </tr>\n",
       "    <tr>\n",
       "      <th>2</th>\n",
       "      <td>0.56</td>\n",
       "      <td>0.0</td>\n",
       "      <td>0.10</td>\n",
       "      <td>0.12</td>\n",
       "      <td>0.22</td>\n",
       "    </tr>\n",
       "    <tr>\n",
       "      <th>3</th>\n",
       "      <td>0.56</td>\n",
       "      <td>0.0</td>\n",
       "      <td>0.04</td>\n",
       "      <td>0.12</td>\n",
       "      <td>0.28</td>\n",
       "    </tr>\n",
       "    <tr>\n",
       "      <th>4</th>\n",
       "      <td>0.36</td>\n",
       "      <td>0.0</td>\n",
       "      <td>0.16</td>\n",
       "      <td>0.20</td>\n",
       "      <td>0.28</td>\n",
       "    </tr>\n",
       "    <tr>\n",
       "      <th>5</th>\n",
       "      <td>0.50</td>\n",
       "      <td>0.0</td>\n",
       "      <td>0.04</td>\n",
       "      <td>0.24</td>\n",
       "      <td>0.22</td>\n",
       "    </tr>\n",
       "  </tbody>\n",
       "</table>\n",
       "</div>"
      ],
      "text/plain": [
       "   Adoption  Died  Euthanasia  Return_to_owner  Transfer\n",
       "1      0.26   0.0        0.02             0.30      0.42\n",
       "2      0.56   0.0        0.10             0.12      0.22\n",
       "3      0.56   0.0        0.04             0.12      0.28\n",
       "4      0.36   0.0        0.16             0.20      0.28\n",
       "5      0.50   0.0        0.04             0.24      0.22"
      ]
     },
     "execution_count": 20,
     "metadata": {},
     "output_type": "execute_result"
    }
   ],
   "source": [
    "selectorKNN = SelectKBest(chi2, k=8)\n",
    "predictor = make_pipeline(selectorKNN, knn)\n",
    "predictor.fit(X, y)\n",
    "predictions = predictor.predict_proba(df_test)\n",
    "output = pd.DataFrame(predictions, columns=['Adoption', 'Died', 'Euthanasia', 'Return_to_owner', 'Transfer'])\n",
    "output.index.names = ['ID']\n",
    "output.index += 1\n",
    "output.head()"
   ]
  },
  {
   "cell_type": "code",
   "execution_count": 21,
   "metadata": {
    "collapsed": true
   },
   "outputs": [],
   "source": [
    "output.to_csv('../submission-Bagging-KNN.2.0.csv', index_label = 'ID')"
   ]
  },
  {
   "cell_type": "markdown",
   "metadata": {},
   "source": [
    "### Naive Bayes"
   ]
  },
  {
   "cell_type": "code",
   "execution_count": 22,
   "metadata": {
    "collapsed": false,
    "scrolled": true
   },
   "outputs": [
    {
     "data": {
      "text/plain": [
       "array([-1.18349602, -1.20159273, -1.36292606])"
      ]
     },
     "execution_count": 22,
     "metadata": {},
     "output_type": "execute_result"
    }
   ],
   "source": [
    "gaussianNB = BaggingClassifier(GaussianNB(), max_samples=0.5, max_features=0.5)\n",
    "cross_validation.cross_val_score(gaussianNB, X, y, scoring=\"log_loss\")"
   ]
  },
  {
   "cell_type": "code",
   "execution_count": 23,
   "metadata": {
    "collapsed": false
   },
   "outputs": [
    {
     "data": {
      "text/plain": [
       "array([-1.02663551, -1.02429311, -1.02377623])"
      ]
     },
     "execution_count": 23,
     "metadata": {},
     "output_type": "execute_result"
    }
   ],
   "source": [
    "X_new = SelectKBest(chi2, k=4).fit_transform(X, y)\n",
    "cross_validation.cross_val_score(gaussianNB, X_new, y, scoring=\"log_loss\")"
   ]
  },
  {
   "cell_type": "code",
   "execution_count": 24,
   "metadata": {
    "collapsed": false
   },
   "outputs": [
    {
     "data": {
      "text/html": [
       "<div>\n",
       "<table border=\"1\" class=\"dataframe\">\n",
       "  <thead>\n",
       "    <tr style=\"text-align: right;\">\n",
       "      <th></th>\n",
       "      <th>Adoption</th>\n",
       "      <th>Died</th>\n",
       "      <th>Euthanasia</th>\n",
       "      <th>Return_to_owner</th>\n",
       "      <th>Transfer</th>\n",
       "    </tr>\n",
       "  </thead>\n",
       "  <tbody>\n",
       "    <tr>\n",
       "      <th>1</th>\n",
       "      <td>0.141223</td>\n",
       "      <td>0.004971</td>\n",
       "      <td>0.086521</td>\n",
       "      <td>0.274160</td>\n",
       "      <td>0.493125</td>\n",
       "    </tr>\n",
       "    <tr>\n",
       "      <th>2</th>\n",
       "      <td>0.471021</td>\n",
       "      <td>0.002381</td>\n",
       "      <td>0.036342</td>\n",
       "      <td>0.313238</td>\n",
       "      <td>0.177017</td>\n",
       "    </tr>\n",
       "    <tr>\n",
       "      <th>3</th>\n",
       "      <td>0.552440</td>\n",
       "      <td>0.009027</td>\n",
       "      <td>0.047226</td>\n",
       "      <td>0.055115</td>\n",
       "      <td>0.336192</td>\n",
       "    </tr>\n",
       "    <tr>\n",
       "      <th>4</th>\n",
       "      <td>0.213122</td>\n",
       "      <td>0.007911</td>\n",
       "      <td>0.078015</td>\n",
       "      <td>0.306603</td>\n",
       "      <td>0.394349</td>\n",
       "    </tr>\n",
       "    <tr>\n",
       "      <th>5</th>\n",
       "      <td>0.507467</td>\n",
       "      <td>0.001545</td>\n",
       "      <td>0.029447</td>\n",
       "      <td>0.319208</td>\n",
       "      <td>0.142332</td>\n",
       "    </tr>\n",
       "  </tbody>\n",
       "</table>\n",
       "</div>"
      ],
      "text/plain": [
       "   Adoption      Died  Euthanasia  Return_to_owner  Transfer\n",
       "1  0.141223  0.004971    0.086521         0.274160  0.493125\n",
       "2  0.471021  0.002381    0.036342         0.313238  0.177017\n",
       "3  0.552440  0.009027    0.047226         0.055115  0.336192\n",
       "4  0.213122  0.007911    0.078015         0.306603  0.394349\n",
       "5  0.507467  0.001545    0.029447         0.319208  0.142332"
      ]
     },
     "execution_count": 24,
     "metadata": {},
     "output_type": "execute_result"
    }
   ],
   "source": [
    "selectorNB = SelectKBest(chi2, k=4)\n",
    "predictor = make_pipeline(selectorNB, gaussianNB)\n",
    "predictor.fit(X, y)\n",
    "predictions = predictor.predict_proba(df_test)\n",
    "output = pd.DataFrame(predictions, columns=['Adoption', 'Died', 'Euthanasia', 'Return_to_owner', 'Transfer'])\n",
    "output.index.names = ['ID']\n",
    "output.index += 1\n",
    "output.head()"
   ]
  },
  {
   "cell_type": "code",
   "execution_count": 25,
   "metadata": {
    "collapsed": true
   },
   "outputs": [],
   "source": [
    "output.to_csv('../submission-Bagging-Naive-Bayes.2.0.csv', index_label = 'ID')"
   ]
  }
 ],
 "metadata": {
  "kernelspec": {
   "display_name": "Python 2",
   "language": "python",
   "name": "python2"
  },
  "language_info": {
   "codemirror_mode": {
    "name": "ipython",
    "version": 2
   },
   "file_extension": ".py",
   "mimetype": "text/x-python",
   "name": "python",
   "nbconvert_exporter": "python",
   "pygments_lexer": "ipython2",
   "version": "2.7.11+"
  }
 },
 "nbformat": 4,
 "nbformat_minor": 0
}
