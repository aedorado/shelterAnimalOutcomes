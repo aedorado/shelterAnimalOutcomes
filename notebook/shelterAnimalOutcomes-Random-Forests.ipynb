{
 "cells": [
  {
   "cell_type": "markdown",
   "metadata": {},
   "source": [
    "# Shelter Animal Outcomes 3"
   ]
  },
  {
   "cell_type": "markdown",
   "metadata": {},
   "source": [
    "## Random Forests"
   ]
  },
  {
   "cell_type": "code",
   "execution_count": 1,
   "metadata": {
    "collapsed": true
   },
   "outputs": [],
   "source": [
    "from time import time\n",
    "from operator import itemgetter\n",
    "from sklearn.ensemble import RandomForestClassifier\n",
    "from sklearn import cross_validation\n",
    "from sklearn.feature_selection import RFECV\n",
    "from sklearn.grid_search import GridSearchCV\n",
    "from sklearn.pipeline import Pipeline\n",
    "import pandas as pd\n",
    "import numpy as np"
   ]
  },
  {
   "cell_type": "code",
   "execution_count": 2,
   "metadata": {
    "collapsed": true
   },
   "outputs": [],
   "source": [
    "df_train = pd.read_csv('../Shelter_train.csv')\n",
    "df_test = pd.read_csv('../Shelter_test.csv')"
   ]
  },
  {
   "cell_type": "code",
   "execution_count": 3,
   "metadata": {
    "collapsed": false
   },
   "outputs": [],
   "source": [
    "X = df_train.ix[:, :-1]\n",
    "y = df_train.ix[:, -1]\n",
    "df_test = df_test.drop('ID', 1)"
   ]
  },
  {
   "cell_type": "code",
   "execution_count": 4,
   "metadata": {
    "collapsed": false
   },
   "outputs": [
    {
     "data": {
      "text/plain": [
       "array([-1.46005766, -1.42965826, -1.38190881])"
      ]
     },
     "execution_count": 4,
     "metadata": {},
     "output_type": "execute_result"
    }
   ],
   "source": [
    "forest = RandomForestClassifier(n_estimators = 400, max_features='auto')\n",
    "cross_validation.cross_val_score(forest, X, y, scoring=\"log_loss\")"
   ]
  },
  {
   "cell_type": "code",
   "execution_count": 5,
   "metadata": {
    "collapsed": true
   },
   "outputs": [],
   "source": [
    "params = {\"clf__max_depth\": [5, 3, None],\n",
    "        \"clf__max_features\": [0.1, 0.25, 0.5, 1.0],\n",
    "        \"clf__min_samples_split\": [1, 3, 10],\n",
    "        \"clf__min_samples_leaf\": [1, 3, 10],\n",
    "        \"clf__bootstrap\": [True, False],\n",
    "        \"clf__criterion\": [\"gini\", \"entropy\"]}"
   ]
  },
  {
   "cell_type": "code",
   "execution_count": 6,
   "metadata": {
    "collapsed": true
   },
   "outputs": [],
   "source": [
    "def report(grid_scores, n_top=3):\n",
    "    top_scores = sorted(grid_scores, key=itemgetter(1), reverse=True)[:n_top]\n",
    "    for i, score in enumerate(top_scores):\n",
    "        print(\"Model with rank: {0}\".format(i + 1))\n",
    "        print(\"Mean validation score: {0:.3f} (std: {1:.3f})\".format(\n",
    "              score.mean_validation_score,\n",
    "              np.std(score.cv_validation_scores)))\n",
    "        print(\"Parameters: {0}\".format(score.parameters))\n",
    "        print(\"\")"
   ]
  },
  {
   "cell_type": "code",
   "execution_count": 7,
   "metadata": {
    "collapsed": false
   },
   "outputs": [
    {
     "name": "stdout",
     "output_type": "stream",
     "text": [
      "GridSearchCV took 4943.46 seconds for 432 candidate parameter settings.\n",
      "Model with rank: 1\n",
      "Mean validation score: -1.008 (std: 0.017)\n",
      "Parameters: {'clf__bootstrap': True, 'clf__criterion': 'gini', 'clf__max_depth': 5, 'clf__min_samples_leaf': 1, 'clf__max_features': 0.25, 'clf__min_samples_split': 3}\n",
      "\n",
      "Model with rank: 2\n",
      "Mean validation score: -1.017 (std: 0.014)\n",
      "Parameters: {'clf__bootstrap': False, 'clf__criterion': 'entropy', 'clf__max_depth': 5, 'clf__min_samples_leaf': 1, 'clf__max_features': 1.0, 'clf__min_samples_split': 3}\n",
      "\n",
      "Model with rank: 3\n",
      "Mean validation score: -1.021 (std: 0.018)\n",
      "Parameters: {'clf__bootstrap': True, 'clf__criterion': 'gini', 'clf__max_depth': 3, 'clf__min_samples_leaf': 3, 'clf__max_features': 1.0, 'clf__min_samples_split': 10}\n",
      "\n"
     ]
    },
    {
     "data": {
      "text/html": [
       "<div>\n",
       "<table border=\"1\" class=\"dataframe\">\n",
       "  <thead>\n",
       "    <tr style=\"text-align: right;\">\n",
       "      <th></th>\n",
       "      <th>Adoption</th>\n",
       "      <th>Died</th>\n",
       "      <th>Euthanasia</th>\n",
       "      <th>Return_to_owner</th>\n",
       "      <th>Transfer</th>\n",
       "    </tr>\n",
       "  </thead>\n",
       "  <tbody>\n",
       "    <tr>\n",
       "      <th>1</th>\n",
       "      <td>0.096385</td>\n",
       "      <td>0.004360</td>\n",
       "      <td>0.098321</td>\n",
       "      <td>0.292357</td>\n",
       "      <td>0.508577</td>\n",
       "    </tr>\n",
       "    <tr>\n",
       "      <th>2</th>\n",
       "      <td>0.515902</td>\n",
       "      <td>0.001343</td>\n",
       "      <td>0.030227</td>\n",
       "      <td>0.284061</td>\n",
       "      <td>0.168467</td>\n",
       "    </tr>\n",
       "    <tr>\n",
       "      <th>3</th>\n",
       "      <td>0.652827</td>\n",
       "      <td>0.001950</td>\n",
       "      <td>0.023525</td>\n",
       "      <td>0.120233</td>\n",
       "      <td>0.201466</td>\n",
       "    </tr>\n",
       "    <tr>\n",
       "      <th>4</th>\n",
       "      <td>0.077946</td>\n",
       "      <td>0.005235</td>\n",
       "      <td>0.119987</td>\n",
       "      <td>0.384071</td>\n",
       "      <td>0.412761</td>\n",
       "    </tr>\n",
       "    <tr>\n",
       "      <th>5</th>\n",
       "      <td>0.472442</td>\n",
       "      <td>0.001421</td>\n",
       "      <td>0.034818</td>\n",
       "      <td>0.308180</td>\n",
       "      <td>0.183139</td>\n",
       "    </tr>\n",
       "  </tbody>\n",
       "</table>\n",
       "</div>"
      ],
      "text/plain": [
       "   Adoption      Died  Euthanasia  Return_to_owner  Transfer\n",
       "1  0.096385  0.004360    0.098321         0.292357  0.508577\n",
       "2  0.515902  0.001343    0.030227         0.284061  0.168467\n",
       "3  0.652827  0.001950    0.023525         0.120233  0.201466\n",
       "4  0.077946  0.005235    0.119987         0.384071  0.412761\n",
       "5  0.472442  0.001421    0.034818         0.308180  0.183139"
      ]
     },
     "execution_count": 7,
     "metadata": {},
     "output_type": "execute_result"
    }
   ],
   "source": [
    "pipeline = Pipeline([\n",
    "        ('featureSelection', RFECV(estimator=RandomForestClassifier(n_estimators=20), scoring='log_loss')),\n",
    "        ('clf', RandomForestClassifier(n_estimators=1000))\n",
    "        ])\n",
    "grid_search = GridSearchCV(pipeline, params, n_jobs=-1, scoring='log_loss')\n",
    "start = time()\n",
    "grid_search.fit(X, y)\n",
    "print(\"GridSearchCV took %.2f seconds for %d candidate parameter settings.\"\n",
    "      % (time() - start, len(grid_search.grid_scores_)))\n",
    "report(grid_search.grid_scores_)\n",
    "predictions = grid_search.predict_proba(df_test)\n",
    "output = pd.DataFrame(predictions, columns=['Adoption', 'Died', 'Euthanasia', 'Return_to_owner', 'Transfer'])\n",
    "output.index.names = ['ID']\n",
    "output.index += 1\n",
    "output.head()"
   ]
  },
  {
   "cell_type": "code",
   "execution_count": 8,
   "metadata": {
    "collapsed": false
   },
   "outputs": [],
   "source": [
    "output.to_csv('../submissionRF.3.0.csv', index_label = 'ID')"
   ]
  }
 ],
 "metadata": {
  "kernelspec": {
   "display_name": "Python 2",
   "language": "python",
   "name": "python2"
  },
  "language_info": {
   "codemirror_mode": {
    "name": "ipython",
    "version": 2
   },
   "file_extension": ".py",
   "mimetype": "text/x-python",
   "name": "python",
   "nbconvert_exporter": "python",
   "pygments_lexer": "ipython2",
   "version": "2.7.12"
  }
 },
 "nbformat": 4,
 "nbformat_minor": 0
}
