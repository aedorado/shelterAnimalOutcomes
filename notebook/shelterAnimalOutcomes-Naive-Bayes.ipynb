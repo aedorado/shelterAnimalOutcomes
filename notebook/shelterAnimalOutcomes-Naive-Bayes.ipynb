{
 "cells": [
  {
   "cell_type": "markdown",
   "metadata": {},
   "source": [
    "# Shelter Animal Outcomes 5"
   ]
  },
  {
   "cell_type": "markdown",
   "metadata": {},
   "source": [
    "## Naive Bayes"
   ]
  },
  {
   "cell_type": "code",
   "execution_count": 1,
   "metadata": {
    "collapsed": true
   },
   "outputs": [],
   "source": [
    "from sklearn.naive_bayes import GaussianNB \n",
    "from sklearn import cross_validation\n",
    "import pandas as pd"
   ]
  },
  {
   "cell_type": "code",
   "execution_count": 2,
   "metadata": {
    "collapsed": true
   },
   "outputs": [],
   "source": [
    "df_train = pd.read_csv('../Shelter_train.csv')\n",
    "df_test = pd.read_csv('../Shelter_test.csv')"
   ]
  },
  {
   "cell_type": "code",
   "execution_count": 3,
   "metadata": {
    "collapsed": true
   },
   "outputs": [],
   "source": [
    "x = df_train.ix[:, :-1]\n",
    "y = df_train.ix[:, -1]\n",
    "df_test = df_test.drop('ID', 1)"
   ]
  },
  {
   "cell_type": "code",
   "execution_count": 4,
   "metadata": {
    "collapsed": false
   },
   "outputs": [
    {
     "data": {
      "text/plain": [
       "array([-1.22157213, -1.26583667, -1.20188548])"
      ]
     },
     "execution_count": 4,
     "metadata": {},
     "output_type": "execute_result"
    }
   ],
   "source": [
    "clf = GaussianNB()\n",
    "cross_validation.cross_val_score(clf, x, y, scoring=\"log_loss\")"
   ]
  },
  {
   "cell_type": "code",
   "execution_count": 5,
   "metadata": {
    "collapsed": false
   },
   "outputs": [
    {
     "data": {
      "text/html": [
       "<div>\n",
       "<table border=\"1\" class=\"dataframe\">\n",
       "  <thead>\n",
       "    <tr style=\"text-align: right;\">\n",
       "      <th></th>\n",
       "      <th>Adoption</th>\n",
       "      <th>Died</th>\n",
       "      <th>Euthanasia</th>\n",
       "      <th>Return_to_owner</th>\n",
       "      <th>Transfer</th>\n",
       "    </tr>\n",
       "  </thead>\n",
       "  <tbody>\n",
       "    <tr>\n",
       "      <th>1</th>\n",
       "      <td>0.003758</td>\n",
       "      <td>0.007522</td>\n",
       "      <td>0.064255</td>\n",
       "      <td>0.207911</td>\n",
       "      <td>0.716553</td>\n",
       "    </tr>\n",
       "    <tr>\n",
       "      <th>2</th>\n",
       "      <td>0.469521</td>\n",
       "      <td>0.000370</td>\n",
       "      <td>0.007526</td>\n",
       "      <td>0.459204</td>\n",
       "      <td>0.063379</td>\n",
       "    </tr>\n",
       "    <tr>\n",
       "      <th>3</th>\n",
       "      <td>0.845995</td>\n",
       "      <td>0.001081</td>\n",
       "      <td>0.007876</td>\n",
       "      <td>0.013983</td>\n",
       "      <td>0.131064</td>\n",
       "    </tr>\n",
       "    <tr>\n",
       "      <th>4</th>\n",
       "      <td>0.154246</td>\n",
       "      <td>0.002755</td>\n",
       "      <td>0.029189</td>\n",
       "      <td>0.515097</td>\n",
       "      <td>0.298713</td>\n",
       "    </tr>\n",
       "    <tr>\n",
       "      <th>5</th>\n",
       "      <td>0.523129</td>\n",
       "      <td>0.000114</td>\n",
       "      <td>0.004230</td>\n",
       "      <td>0.436010</td>\n",
       "      <td>0.036515</td>\n",
       "    </tr>\n",
       "  </tbody>\n",
       "</table>\n",
       "</div>"
      ],
      "text/plain": [
       "   Adoption      Died  Euthanasia  Return_to_owner  Transfer\n",
       "1  0.003758  0.007522    0.064255         0.207911  0.716553\n",
       "2  0.469521  0.000370    0.007526         0.459204  0.063379\n",
       "3  0.845995  0.001081    0.007876         0.013983  0.131064\n",
       "4  0.154246  0.002755    0.029189         0.515097  0.298713\n",
       "5  0.523129  0.000114    0.004230         0.436010  0.036515"
      ]
     },
     "execution_count": 5,
     "metadata": {},
     "output_type": "execute_result"
    }
   ],
   "source": [
    "clf = clf.fit(x, y)\n",
    "predictions = clf.predict_proba(df_test)\n",
    "output = pd.DataFrame(predictions, columns=['Adoption', 'Died', 'Euthanasia', 'Return_to_owner', 'Transfer'])\n",
    "output.index.names = ['ID']\n",
    "output.index += 1\n",
    "output.head()"
   ]
  },
  {
   "cell_type": "code",
   "execution_count": 6,
   "metadata": {
    "collapsed": true
   },
   "outputs": [],
   "source": [
    "output.to_csv('../submission-GaussianNB.1.0.csv', index_label = 'ID')"
   ]
  }
 ],
 "metadata": {
  "kernelspec": {
   "display_name": "Python 2",
   "language": "python",
   "name": "python2"
  },
  "language_info": {
   "codemirror_mode": {
    "name": "ipython",
    "version": 2
   },
   "file_extension": ".py",
   "mimetype": "text/x-python",
   "name": "python",
   "nbconvert_exporter": "python",
   "pygments_lexer": "ipython2",
   "version": "2.7.11+"
  }
 },
 "nbformat": 4,
 "nbformat_minor": 0
}
