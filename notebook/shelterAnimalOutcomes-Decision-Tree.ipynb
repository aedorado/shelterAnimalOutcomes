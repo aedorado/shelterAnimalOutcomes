{
 "cells": [
  {
   "cell_type": "markdown",
   "metadata": {},
   "source": [
    "# Shelter Animal Outcomes 6"
   ]
  },
  {
   "cell_type": "markdown",
   "metadata": {},
   "source": [
    "## Decision Trees"
   ]
  },
  {
   "cell_type": "markdown",
   "metadata": {},
   "source": [
    "In case you're wondering which decision tree I'm using, I'm using the\n",
    "one scikit learn is providing, which accordng to it's [user guide](http://scikit-learn.org/0.15/modules/tree.html#tree-algorithms-id3-c4-5-c5-0-and-cart) \n",
    "> scikit-learn uses an optimised version of the CART algorithm."
   ]
  },
  {
   "cell_type": "code",
   "execution_count": 1,
   "metadata": {
    "collapsed": true
   },
   "outputs": [],
   "source": [
    "from sklearn.tree import DecisionTreeClassifier\n",
    "from sklearn import cross_validation\n",
    "from sklearn.feature_selection import SelectKBest, chi2, f_classif\n",
    "from sklearn.grid_search import GridSearchCV\n",
    "from sklearn.pipeline import Pipeline\n",
    "from time import time\n",
    "from operator import itemgetter\n",
    "import numpy as np\n",
    "import pandas as pd"
   ]
  },
  {
   "cell_type": "code",
   "execution_count": 2,
   "metadata": {
    "collapsed": true
   },
   "outputs": [],
   "source": [
    "df_train = pd.read_csv('../Shelter_train.csv')\n",
    "df_test = pd.read_csv('../Shelter_test.csv')"
   ]
  },
  {
   "cell_type": "code",
   "execution_count": 3,
   "metadata": {
    "collapsed": false
   },
   "outputs": [],
   "source": [
    "X = df_train.ix[:, :-1]\n",
    "y = df_train.ix[:, -1]\n",
    "df_test = df_test.drop('ID', 1)"
   ]
  },
  {
   "cell_type": "code",
   "execution_count": 4,
   "metadata": {
    "collapsed": false
   },
   "outputs": [
    {
     "data": {
      "text/plain": [
       "array([-2.93792338, -2.91144915, -2.94305274])"
      ]
     },
     "execution_count": 4,
     "metadata": {},
     "output_type": "execute_result"
    }
   ],
   "source": [
    "clf = DecisionTreeClassifier()\n",
    "cross_validation.cross_val_score(clf, X, y, scoring=\"log_loss\")"
   ]
  },
  {
   "cell_type": "code",
   "execution_count": 5,
   "metadata": {
    "collapsed": false
   },
   "outputs": [
    {
     "name": "stdout",
     "output_type": "stream",
     "text": [
      "10 loops, best of 3: 22.5 ms per loop\n"
     ]
    }
   ],
   "source": [
    "%timeit clf.fit(X, y)"
   ]
  },
  {
   "cell_type": "code",
   "execution_count": 6,
   "metadata": {
    "collapsed": true
   },
   "outputs": [],
   "source": [
    "def report(grid_scores, n_top=3):\n",
    "    top_scores = sorted(grid_scores, key=itemgetter(1), reverse=True)[:n_top]\n",
    "    for i, score in enumerate(top_scores):\n",
    "        print(\"Model with rank: {0}\".format(i + 1))\n",
    "        print(\"Mean validation score: {0:.3f} (std: {1:.3f})\".format(\n",
    "              score.mean_validation_score,\n",
    "              np.std(score.cv_validation_scores)))\n",
    "        print(\"Parameters: {0}\".format(score.parameters))\n",
    "        print(\"\")"
   ]
  },
  {
   "cell_type": "code",
   "execution_count": 7,
   "metadata": {
    "collapsed": true
   },
   "outputs": [],
   "source": [
    "params = {\n",
    "    \"featureSelection__k\" : [2, 3, 4, 5, 6, 7, 8],\n",
    "    \"clf__criterion\": [\"gini\", \"entropy\"],\n",
    "    \"clf__max_features\": [0.33, 0.66, 1.0],\n",
    "    \"clf__min_samples_split\": [1, 3, 10, 30],\n",
    "    \"clf__min_samples_leaf\": [1, 3, 10, 30],\n",
    "    \"clf__min_weight_fraction_leaf\": [0.0, 0.1, 0.3],\n",
    "    \"clf__max_depth\": [3, 10, 30, None]\n",
    "    }"
   ]
  },
  {
   "cell_type": "code",
   "execution_count": 8,
   "metadata": {
    "collapsed": false
   },
   "outputs": [
    {
     "name": "stdout",
     "output_type": "stream",
     "text": [
      "GridSearchCV took 518.45 seconds for 8064 candidate parameter settings.\n",
      "Model with rank: 1\n",
      "Mean validation score: -0.954 (std: 0.005)\n",
      "Parameters: {'featureSelection__k': 3, 'clf__criterion': 'gini', 'clf__max_depth': 3, 'clf__min_weight_fraction_leaf': 0.0, 'clf__min_samples_leaf': 1, 'clf__max_features': 1.0, 'clf__min_samples_split': 1}\n",
      "\n",
      "Model with rank: 2\n",
      "Mean validation score: -0.954 (std: 0.005)\n",
      "Parameters: {'featureSelection__k': 4, 'clf__criterion': 'gini', 'clf__max_depth': 3, 'clf__min_weight_fraction_leaf': 0.0, 'clf__min_samples_leaf': 1, 'clf__max_features': 1.0, 'clf__min_samples_split': 1}\n",
      "\n",
      "Model with rank: 3\n",
      "Mean validation score: -0.954 (std: 0.005)\n",
      "Parameters: {'featureSelection__k': 5, 'clf__criterion': 'gini', 'clf__max_depth': 3, 'clf__min_weight_fraction_leaf': 0.0, 'clf__min_samples_leaf': 1, 'clf__max_features': 1.0, 'clf__min_samples_split': 1}\n",
      "\n"
     ]
    },
    {
     "data": {
      "text/html": [
       "<div>\n",
       "<table border=\"1\" class=\"dataframe\">\n",
       "  <thead>\n",
       "    <tr style=\"text-align: right;\">\n",
       "      <th></th>\n",
       "      <th>Adoption</th>\n",
       "      <th>Died</th>\n",
       "      <th>Euthanasia</th>\n",
       "      <th>Return_to_owner</th>\n",
       "      <th>Transfer</th>\n",
       "    </tr>\n",
       "  </thead>\n",
       "  <tbody>\n",
       "    <tr>\n",
       "      <th>1</th>\n",
       "      <td>0.062141</td>\n",
       "      <td>0.003655</td>\n",
       "      <td>0.114360</td>\n",
       "      <td>0.363969</td>\n",
       "      <td>0.455875</td>\n",
       "    </tr>\n",
       "    <tr>\n",
       "      <th>2</th>\n",
       "      <td>0.485691</td>\n",
       "      <td>0.001363</td>\n",
       "      <td>0.033161</td>\n",
       "      <td>0.316072</td>\n",
       "      <td>0.163714</td>\n",
       "    </tr>\n",
       "    <tr>\n",
       "      <th>3</th>\n",
       "      <td>0.679824</td>\n",
       "      <td>0.002204</td>\n",
       "      <td>0.017231</td>\n",
       "      <td>0.086756</td>\n",
       "      <td>0.213985</td>\n",
       "    </tr>\n",
       "    <tr>\n",
       "      <th>4</th>\n",
       "      <td>0.062141</td>\n",
       "      <td>0.003655</td>\n",
       "      <td>0.114360</td>\n",
       "      <td>0.363969</td>\n",
       "      <td>0.455875</td>\n",
       "    </tr>\n",
       "    <tr>\n",
       "      <th>5</th>\n",
       "      <td>0.485691</td>\n",
       "      <td>0.001363</td>\n",
       "      <td>0.033161</td>\n",
       "      <td>0.316072</td>\n",
       "      <td>0.163714</td>\n",
       "    </tr>\n",
       "  </tbody>\n",
       "</table>\n",
       "</div>"
      ],
      "text/plain": [
       "   Adoption      Died  Euthanasia  Return_to_owner  Transfer\n",
       "1  0.062141  0.003655    0.114360         0.363969  0.455875\n",
       "2  0.485691  0.001363    0.033161         0.316072  0.163714\n",
       "3  0.679824  0.002204    0.017231         0.086756  0.213985\n",
       "4  0.062141  0.003655    0.114360         0.363969  0.455875\n",
       "5  0.485691  0.001363    0.033161         0.316072  0.163714"
      ]
     },
     "execution_count": 8,
     "metadata": {},
     "output_type": "execute_result"
    }
   ],
   "source": [
    "pipeline = Pipeline([\n",
    "        ('featureSelection', SelectKBest(f_classif)),\n",
    "        ('clf', DecisionTreeClassifier())\n",
    "    ])\n",
    "grid_search = GridSearchCV(pipeline, params, n_jobs=-1, scoring='log_loss')\n",
    "start = time()\n",
    "grid_search.fit(X, y)\n",
    "print(\"GridSearchCV took %.2f seconds for %d candidate parameter settings.\"\n",
    "      % (time() - start, len(grid_search.grid_scores_)))\n",
    "report(grid_search.grid_scores_)\n",
    "predictions = grid_search.predict_proba(df_test)\n",
    "output = pd.DataFrame(predictions, columns=['Adoption', 'Died', 'Euthanasia', 'Return_to_owner', 'Transfer'])\n",
    "output.index.names = ['ID']\n",
    "output.index += 1\n",
    "output.head()"
   ]
  },
  {
   "cell_type": "code",
   "execution_count": 9,
   "metadata": {
    "collapsed": true
   },
   "outputs": [],
   "source": [
    "output.to_csv('../submission-DecisionTree.3.0.csv', index_label = 'ID')"
   ]
  }
 ],
 "metadata": {
  "kernelspec": {
   "display_name": "Python 2",
   "language": "python",
   "name": "python2"
  },
  "language_info": {
   "codemirror_mode": {
    "name": "ipython",
    "version": 2
   },
   "file_extension": ".py",
   "mimetype": "text/x-python",
   "name": "python",
   "nbconvert_exporter": "python",
   "pygments_lexer": "ipython2",
   "version": "2.7.12"
  }
 },
 "nbformat": 4,
 "nbformat_minor": 0
}
