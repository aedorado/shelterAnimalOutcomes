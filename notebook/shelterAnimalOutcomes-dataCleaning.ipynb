{
 "cells": [
  {
   "cell_type": "markdown",
   "metadata": {},
   "source": [
    "# Shelter Animal Outcomes 2"
   ]
  },
  {
   "cell_type": "markdown",
   "metadata": {
    "collapsed": true
   },
   "source": [
    "## Data cleaning & preprocessing"
   ]
  },
  {
   "cell_type": "code",
   "execution_count": 1,
   "metadata": {
    "collapsed": true
   },
   "outputs": [],
   "source": [
    "import pandas as pd\n",
    "import numpy as np"
   ]
  },
  {
   "cell_type": "code",
   "execution_count": 17,
   "metadata": {
    "collapsed": true
   },
   "outputs": [],
   "source": [
    "df_train = pd.read_csv('../train.csv')\n",
    "df_test  = pd.read_csv('../test.csv')\n",
    "df_dangerousDogs = pd.read_csv('../dangerousDogs.csv')\n",
    "df_dogBreedGroup = pd.read_csv('../dogbreeds.csv', names=['BreedName', 'Group'])"
   ]
  },
  {
   "cell_type": "code",
   "execution_count": 2,
   "metadata": {
    "collapsed": true
   },
   "outputs": [],
   "source": [
    "def getAncestry(data, pos):\n",
    "    try:\n",
    "        ancestors = data.split('/')\n",
    "        if (pos == 1):\n",
    "            return ancestors[0]\n",
    "        else:\n",
    "            return ancestors[1]\n",
    "    except:\n",
    "        if (pos == 1):\n",
    "            return data\n",
    "        else:\n",
    "            return np.nan"
   ]
  },
  {
   "cell_type": "code",
   "execution_count": 4,
   "metadata": {
    "collapsed": true
   },
   "outputs": [],
   "source": [
    "def coatLength(breed):\n",
    "    if \"Shorthair\" in breed:\n",
    "        return 1\n",
    "    elif \"Medium Hair\" in breed:\n",
    "        return 2\n",
    "    elif \"Longhair\" in breed:\n",
    "        return 3\n",
    "    else :\n",
    "        return 0"
   ]
  },
  {
   "cell_type": "code",
   "execution_count": 9,
   "metadata": {
    "collapsed": true
   },
   "outputs": [],
   "source": [
    "def dangerousDogBreed(breed):\n",
    "    if ((df_dangerousDogs['Dangerous_Breed'] == getAncestry(breed, 1)).any() or\n",
    "        (df_dangerousDogs['Dangerous_Breed'] == getAncestry(breed, 2)).any()):\n",
    "        return 1\n",
    "    else:\n",
    "        return 0"
   ]
  },
  {
   "cell_type": "code",
   "execution_count": 12,
   "metadata": {
    "collapsed": true
   },
   "outputs": [],
   "source": [
    "def getAncestorGroup(breed):\n",
    "    groupArray = df_dogBreedGroup['Group'].values[df_dogBreedGroup['BreedName'].values == breed]\n",
    "    if groupArray.size:\n",
    "        return groupArray[0].strip()\n",
    "    else:\n",
    "        return np.nan"
   ]
  },
  {
   "cell_type": "code",
   "execution_count": 18,
   "metadata": {
    "collapsed": false
   },
   "outputs": [],
   "source": [
    "def munge(data, train):\n",
    "    data['NameLength'] = data['Name'].str.len()\n",
    "    data['NameLength'].fillna(0, inplace=True)\n",
    "    gender = {'Neutered Male':1, 'Spayed Female':2, 'Intact Male':3, 'Intact Female':4, 'Unknown':5, np.nan:0}\n",
    "    data['Gender'] = data['SexuponOutcome'].map(gender)\n",
    "    data['IsCat'] = data['AnimalType'].map({'Cat':1, 'Dog':0})\n",
    "    \n",
    "    #Everything related to Breed\n",
    "    data['IsMix'] = data['Breed'].str.contains(\"/|Mix\", na=False).map({True: 1, False: 0})\n",
    "    data['Breed'] = data['Breed'].map( lambda x: x.replace(' Mix', '').replace(' Shorthair', '').replace(' Longhair', '').strip())\n",
    "    data['CoatType'] = data['Breed'].map(coatLength)\n",
    "    data['IsDangerous'] = data['Breed'].map(dangerousDogBreed)\n",
    "    data['Ancestor1'] = data['Breed'].map( lambda x: getAncestry(x, 1))\n",
    "    data['Ancestor2'] = data['Breed'].map( lambda x: getAncestry(x, 2))\n",
    "    group = {np.nan: 0, 'Herding':1, 'Non-Sporting':2, 'Terrier':3, 'Toy':4, 'Working':5, \n",
    "             'Sporting':6, 'Hound':7, 'Terrier & Toy':8}\n",
    "    data['Ancestor1_group'] = data['Ancestor1'].map(getAncestorGroup).map(group)\n",
    "    data['Ancestor2_group'] = data['Ancestor2'].map(getAncestorGroup).map(group)\n",
    "    \n",
    "    if (train):\n",
    "        data['Outcome'] = data['OutcomeType'].map({'Adoption':1, 'Died':2, 'Euthanasia':3, 'Return_to_owner':4, 'Transfer':5})\n",
    "        data = data.drop('OutcomeSubtype', 1)\n",
    "        data = data.drop('OutcomeType', 1)\n",
    "        data = data.drop('AnimalID', 1)\n",
    "                         \n",
    "    # dropping breed for now \n",
    "    return data.drop(['SexuponOutcome', 'AnimalType','AgeuponOutcome', 'Name', 'Breed', 'DateTime', 'Color', 'Ancestor1', 'Ancestor2'], 1)"
   ]
  },
  {
   "cell_type": "code",
   "execution_count": 19,
   "metadata": {
    "collapsed": false
   },
   "outputs": [
    {
     "data": {
      "text/html": [
       "<div>\n",
       "<table border=\"1\" class=\"dataframe\">\n",
       "  <thead>\n",
       "    <tr style=\"text-align: right;\">\n",
       "      <th></th>\n",
       "      <th>NameLength</th>\n",
       "      <th>Gender</th>\n",
       "      <th>IsCat</th>\n",
       "      <th>IsMix</th>\n",
       "      <th>CoatType</th>\n",
       "      <th>IsDangerous</th>\n",
       "      <th>Ancestor1_group</th>\n",
       "      <th>Ancestor2_group</th>\n",
       "      <th>Outcome</th>\n",
       "    </tr>\n",
       "  </thead>\n",
       "  <tbody>\n",
       "    <tr>\n",
       "      <th>0</th>\n",
       "      <td>7.0</td>\n",
       "      <td>1</td>\n",
       "      <td>0</td>\n",
       "      <td>1</td>\n",
       "      <td>0</td>\n",
       "      <td>0</td>\n",
       "      <td>1</td>\n",
       "      <td>0</td>\n",
       "      <td>4</td>\n",
       "    </tr>\n",
       "    <tr>\n",
       "      <th>1</th>\n",
       "      <td>5.0</td>\n",
       "      <td>2</td>\n",
       "      <td>1</td>\n",
       "      <td>1</td>\n",
       "      <td>0</td>\n",
       "      <td>0</td>\n",
       "      <td>0</td>\n",
       "      <td>0</td>\n",
       "      <td>3</td>\n",
       "    </tr>\n",
       "    <tr>\n",
       "      <th>2</th>\n",
       "      <td>6.0</td>\n",
       "      <td>1</td>\n",
       "      <td>0</td>\n",
       "      <td>1</td>\n",
       "      <td>0</td>\n",
       "      <td>1</td>\n",
       "      <td>0</td>\n",
       "      <td>0</td>\n",
       "      <td>1</td>\n",
       "    </tr>\n",
       "    <tr>\n",
       "      <th>3</th>\n",
       "      <td>0.0</td>\n",
       "      <td>3</td>\n",
       "      <td>1</td>\n",
       "      <td>1</td>\n",
       "      <td>0</td>\n",
       "      <td>0</td>\n",
       "      <td>0</td>\n",
       "      <td>0</td>\n",
       "      <td>5</td>\n",
       "    </tr>\n",
       "    <tr>\n",
       "      <th>4</th>\n",
       "      <td>0.0</td>\n",
       "      <td>1</td>\n",
       "      <td>0</td>\n",
       "      <td>1</td>\n",
       "      <td>0</td>\n",
       "      <td>0</td>\n",
       "      <td>2</td>\n",
       "      <td>0</td>\n",
       "      <td>5</td>\n",
       "    </tr>\n",
       "  </tbody>\n",
       "</table>\n",
       "</div>"
      ],
      "text/plain": [
       "   NameLength  Gender  IsCat  IsMix  CoatType  IsDangerous  Ancestor1_group  \\\n",
       "0         7.0       1      0      1         0            0                1   \n",
       "1         5.0       2      1      1         0            0                0   \n",
       "2         6.0       1      0      1         0            1                0   \n",
       "3         0.0       3      1      1         0            0                0   \n",
       "4         0.0       1      0      1         0            0                2   \n",
       "\n",
       "   Ancestor2_group  Outcome  \n",
       "0                0        4  \n",
       "1                0        3  \n",
       "2                0        1  \n",
       "3                0        5  \n",
       "4                0        5  "
      ]
     },
     "execution_count": 19,
     "metadata": {},
     "output_type": "execute_result"
    }
   ],
   "source": [
    "out_train = munge(df_train, True)\n",
    "out_train.head()"
   ]
  },
  {
   "cell_type": "code",
   "execution_count": 20,
   "metadata": {
    "collapsed": false
   },
   "outputs": [
    {
     "data": {
      "text/html": [
       "<div>\n",
       "<table border=\"1\" class=\"dataframe\">\n",
       "  <thead>\n",
       "    <tr style=\"text-align: right;\">\n",
       "      <th></th>\n",
       "      <th>ID</th>\n",
       "      <th>NameLength</th>\n",
       "      <th>Gender</th>\n",
       "      <th>IsCat</th>\n",
       "      <th>IsMix</th>\n",
       "      <th>CoatType</th>\n",
       "      <th>IsDangerous</th>\n",
       "      <th>Ancestor1_group</th>\n",
       "      <th>Ancestor2_group</th>\n",
       "    </tr>\n",
       "  </thead>\n",
       "  <tbody>\n",
       "    <tr>\n",
       "      <th>0</th>\n",
       "      <td>1</td>\n",
       "      <td>6.0</td>\n",
       "      <td>4</td>\n",
       "      <td>0</td>\n",
       "      <td>1</td>\n",
       "      <td>0</td>\n",
       "      <td>0</td>\n",
       "      <td>6</td>\n",
       "      <td>0</td>\n",
       "    </tr>\n",
       "    <tr>\n",
       "      <th>1</th>\n",
       "      <td>2</td>\n",
       "      <td>8.0</td>\n",
       "      <td>2</td>\n",
       "      <td>0</td>\n",
       "      <td>1</td>\n",
       "      <td>0</td>\n",
       "      <td>1</td>\n",
       "      <td>1</td>\n",
       "      <td>5</td>\n",
       "    </tr>\n",
       "    <tr>\n",
       "      <th>2</th>\n",
       "      <td>3</td>\n",
       "      <td>3.0</td>\n",
       "      <td>1</td>\n",
       "      <td>1</td>\n",
       "      <td>1</td>\n",
       "      <td>0</td>\n",
       "      <td>0</td>\n",
       "      <td>0</td>\n",
       "      <td>0</td>\n",
       "    </tr>\n",
       "    <tr>\n",
       "      <th>3</th>\n",
       "      <td>4</td>\n",
       "      <td>5.0</td>\n",
       "      <td>3</td>\n",
       "      <td>0</td>\n",
       "      <td>1</td>\n",
       "      <td>0</td>\n",
       "      <td>0</td>\n",
       "      <td>0</td>\n",
       "      <td>0</td>\n",
       "    </tr>\n",
       "    <tr>\n",
       "      <th>4</th>\n",
       "      <td>5</td>\n",
       "      <td>7.0</td>\n",
       "      <td>1</td>\n",
       "      <td>0</td>\n",
       "      <td>1</td>\n",
       "      <td>0</td>\n",
       "      <td>0</td>\n",
       "      <td>0</td>\n",
       "      <td>0</td>\n",
       "    </tr>\n",
       "  </tbody>\n",
       "</table>\n",
       "</div>"
      ],
      "text/plain": [
       "   ID  NameLength  Gender  IsCat  IsMix  CoatType  IsDangerous  \\\n",
       "0   1         6.0       4      0      1         0            0   \n",
       "1   2         8.0       2      0      1         0            1   \n",
       "2   3         3.0       1      1      1         0            0   \n",
       "3   4         5.0       3      0      1         0            0   \n",
       "4   5         7.0       1      0      1         0            0   \n",
       "\n",
       "   Ancestor1_group  Ancestor2_group  \n",
       "0                6                0  \n",
       "1                1                5  \n",
       "2                0                0  \n",
       "3                0                0  \n",
       "4                0                0  "
      ]
     },
     "execution_count": 20,
     "metadata": {},
     "output_type": "execute_result"
    }
   ],
   "source": [
    "out_test = munge(df_test, False)\n",
    "out_test.head()"
   ]
  },
  {
   "cell_type": "code",
   "execution_count": 21,
   "metadata": {
    "collapsed": true
   },
   "outputs": [],
   "source": [
    "out_test.to_csv('../Shelter_test.csv', index= False)"
   ]
  },
  {
   "cell_type": "code",
   "execution_count": 22,
   "metadata": {
    "collapsed": false
   },
   "outputs": [],
   "source": [
    "out_train.to_csv('../Shelter_train.csv', index= False)"
   ]
  }
 ],
 "metadata": {
  "kernelspec": {
   "display_name": "Python 2",
   "language": "python",
   "name": "python2"
  },
  "language_info": {
   "codemirror_mode": {
    "name": "ipython",
    "version": 2
   },
   "file_extension": ".py",
   "mimetype": "text/x-python",
   "name": "python",
   "nbconvert_exporter": "python",
   "pygments_lexer": "ipython2",
   "version": "2.7.11+"
  }
 },
 "nbformat": 4,
 "nbformat_minor": 0
}
